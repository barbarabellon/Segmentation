{
 "cells": [
  {
   "cell_type": "code",
   "execution_count": 19,
   "metadata": {},
   "outputs": [],
   "source": [
    "##----------Import packages\n",
    "\n",
    "##Before running In anaconda prompt write \n",
    "# pip install scikit-image\n",
    "# pip install opencv-python\n",
    "# pip install plotly\n",
    "\n",
    "\n",
    "#Basic packages (math and statistics)\n",
    "import pandas as pd\n",
    "import numpy as np\n",
    "from scipy import ndimage as ndi\n",
    "from scipy import stats\n",
    "import math\n",
    "import glob\n",
    "\n",
    "#Segmentation library\n",
    "from skimage.exposure import histogram\n",
    "from skimage.color import label2rgb\n",
    "from skimage import data, io, filters\n",
    "from skimage.filters import threshold_local\n",
    "from skimage.feature import peak_local_max\n",
    "from skimage.feature import canny\n",
    "from skimage import measure\n",
    "from skimage.morphology import label\n",
    "from skimage.draw import ellipse\n",
    "from skimage.measure import label, regionprops, regionprops_table\n",
    "from skimage.transform import rotate\n",
    "\n",
    "#basic plots\n",
    "import matplotlib as mpl\n",
    "import matplotlib.pyplot as plt\n",
    "import matplotlib.patches as mpatches\n",
    "import plotly.express as px\n",
    "import plotly.graph_objects as go\n",
    "\n",
    "#Interactive chart\n",
    "import plotly.offline as py\n",
    "import json"
   ]
  },
  {
   "cell_type": "code",
   "execution_count": 20,
   "metadata": {},
   "outputs": [
    {
     "data": {
      "text/plain": [
       "['results_Ni-60.txt']"
      ]
     },
     "execution_count": 20,
     "metadata": {},
     "output_type": "execute_result"
    }
   ],
   "source": [
    "files = glob.glob('*.txt')\n",
    "files\n",
    "#df_100 = pd.read_csv('results_Ni-10.txt', delimiter = \"\\t\")\n",
    "#df_60 = pd.read_csv('results_Ni-60.txt', delimiter = \"\\t\")"
   ]
  },
  {
   "cell_type": "code",
   "execution_count": null,
   "metadata": {},
   "outputs": [],
   "source": []
  }
 ],
 "metadata": {
  "kernelspec": {
   "display_name": "Python 3 (ipykernel)",
   "language": "python",
   "name": "python3"
  },
  "language_info": {
   "codemirror_mode": {
    "name": "ipython",
    "version": 3
   },
   "file_extension": ".py",
   "mimetype": "text/x-python",
   "name": "python",
   "nbconvert_exporter": "python",
   "pygments_lexer": "ipython3",
   "version": "3.9.13"
  }
 },
 "nbformat": 4,
 "nbformat_minor": 4
}
